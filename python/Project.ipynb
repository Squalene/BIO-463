{
 "cells": [
  {
   "cell_type": "markdown",
   "id": "efd78168",
   "metadata": {},
   "source": [
    "This code duplicates every row of a GRange by the score it has.  \n",
    "This is necessary as groHMM 'detectTranscripts' function does not take the score as a parameters in its function but requires duplicate lines proportional to the readCounts."
   ]
  },
  {
   "cell_type": "code",
   "execution_count": 2,
   "id": "f687cfd0",
   "metadata": {},
   "outputs": [],
   "source": [
    "import pandas as pd"
   ]
  },
  {
   "cell_type": "code",
   "execution_count": 3,
   "id": "4f74fb74",
   "metadata": {},
   "outputs": [],
   "source": [
    "def duplicate_df(df):\n",
    "    '''\n",
    "    Input:\n",
    "    df: a dataframe corresponding to a GRange \n",
    "    df[chromosome,start,enf,name,score,strand]\n",
    "    Output:\n",
    "    The same dataframe where every row is duplicated a number of times \n",
    "    corresponding to its score \n",
    "    '''\n",
    "    temp_df = []\n",
    "    for row in df.itertuples(index=False):\n",
    "        new_row = (row.chromosome,row.start,row.end,row.name,1,row.strand)\n",
    "        temp_df.extend([list(new_row)]*row.score)\n",
    "    return pd.DataFrame(temp_df, columns=df.columns)\n",
    "\n",
    "def duplicate_bed(fileName):\n",
    "    '''\n",
    "    Outputs a BED file where every row is duplicated\n",
    "    according to its GRange score\n",
    "    Input:\n",
    "    fileName: The name of the GRange BED file without the .bed suffix\n",
    "    This BED file must have the field chrom,chromStart,chromEnd,name,score,strand\n",
    "    Output:\n",
    "    Writes to memory the duplicated BED file\n",
    "    '''\n",
    "    df = pd.read_csv(f\"{fileName}.bed\",delim_whitespace=True)\n",
    "    duplicated_df = duplicate_df(df)\n",
    "    duplicated_df.to_csv(f\"{fileName}_duplicated.bed\", header=None, index=None, sep=\"\\t\")"
   ]
  },
  {
   "cell_type": "code",
   "execution_count": 38,
   "id": "fb55e693",
   "metadata": {},
   "outputs": [],
   "source": [
    "duplicate_bed(\"MCF-7\")"
   ]
  },
  {
   "cell_type": "code",
   "execution_count": 5,
   "id": "ca2d1b63",
   "metadata": {},
   "outputs": [],
   "source": [
    "duplicate_bed(\"drosophila\")"
   ]
  },
  {
   "cell_type": "code",
   "execution_count": 7,
   "id": "93881816",
   "metadata": {},
   "outputs": [],
   "source": [
    "duplicate_bed(\"arabidopsis\")"
   ]
  },
  {
   "cell_type": "code",
   "execution_count": null,
   "id": "390a7c9c",
   "metadata": {},
   "outputs": [],
   "source": []
  }
 ],
 "metadata": {
  "kernelspec": {
   "display_name": "Python 3",
   "language": "python",
   "name": "python3"
  },
  "language_info": {
   "codemirror_mode": {
    "name": "ipython",
    "version": 3
   },
   "file_extension": ".py",
   "mimetype": "text/x-python",
   "name": "python",
   "nbconvert_exporter": "python",
   "pygments_lexer": "ipython3",
   "version": "3.8.8"
  }
 },
 "nbformat": 4,
 "nbformat_minor": 5
}
